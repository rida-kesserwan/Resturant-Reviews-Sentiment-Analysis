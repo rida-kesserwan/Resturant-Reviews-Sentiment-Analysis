{
  "nbformat": 4,
  "nbformat_minor": 0,
  "metadata": {
    "colab": {
      "provenance": []
    },
    "kernelspec": {
      "name": "python3",
      "display_name": "Python 3"
    },
    "language_info": {
      "name": "python"
    }
  },
  "cells": [
    {
      "cell_type": "markdown",
      "source": [
        "# **Imports**"
      ],
      "metadata": {
        "id": "BllY7p7uSbL2"
      }
    },
    {
      "cell_type": "code",
      "source": [
        "import pandas as pd #data manipulation\n",
        "import numpy as np #working with arrays\n",
        "import matplotlib.pyplot as plt #to plot charts\n",
        "import seaborn as sns #statistical graphs\n",
        "plt.style.use('ggplot')\n",
        "import nltk\n",
        "from nltk.sentiment import SentimentIntensityAnalyzer\n",
        "nltk.download('vader_lexicon')\n",
        "from transformers import AutoTokenizer, AutoModelForCausalLM, AutoConfig"
      ],
      "metadata": {
        "colab": {
          "base_uri": "https://localhost:8080/"
        },
        "id": "VMT5EBErX0ZO",
        "outputId": "5c1baf30-0cfb-4d72-b979-fa35bfcc4c87"
      },
      "execution_count": 10,
      "outputs": [
        {
          "output_type": "stream",
          "name": "stderr",
          "text": [
            "[nltk_data] Downloading package vader_lexicon to /root/nltk_data...\n",
            "[nltk_data]   Package vader_lexicon is already up-to-date!\n"
          ]
        }
      ]
    },
    {
      "cell_type": "markdown",
      "source": [
        "# **Input**"
      ],
      "metadata": {
        "id": "bP3J57wHX5Kk"
      }
    },
    {
      "cell_type": "code",
      "source": [
        "! pip install -q kaggle\n",
        "from google.colab import files\n",
        "files.upload()\n",
        "! mkdir ~/.kaggle\n",
        "! cp kaggle.json ~/.kaggle/\n",
        "! chmod 600 ~/.kaggle/kaggle.json\n",
        "\n",
        "!kaggle datasets download denizbilginn/google-maps-restaurant-reviews\n",
        "!mkdir CSV\n",
        "!unzip google-maps-restaurant-reviews.zip -d CSV\n",
        "df = pd.read_csv('CSV/reviews.csv')\n",
        "df.head()"
      ],
      "metadata": {
        "colab": {
          "base_uri": "https://localhost:8080/",
          "height": 261
        },
        "id": "_btK2BUiX8sl",
        "outputId": "68593d95-3be3-4a44-9e16-a3b3016ca138"
      },
      "execution_count": null,
      "outputs": [
        {
          "output_type": "display_data",
          "data": {
            "text/plain": [
              "<IPython.core.display.HTML object>"
            ],
            "text/html": [
              "\n",
              "     <input type=\"file\" id=\"files-6bad09d2-687e-4d8f-9a44-02e48d14a047\" name=\"files[]\" multiple disabled\n",
              "        style=\"border:none\" />\n",
              "     <output id=\"result-6bad09d2-687e-4d8f-9a44-02e48d14a047\">\n",
              "      Upload widget is only available when the cell has been executed in the\n",
              "      current browser session. Please rerun this cell to enable.\n",
              "      </output>\n",
              "      <script>// Copyright 2017 Google LLC\n",
              "//\n",
              "// Licensed under the Apache License, Version 2.0 (the \"License\");\n",
              "// you may not use this file except in compliance with the License.\n",
              "// You may obtain a copy of the License at\n",
              "//\n",
              "//      http://www.apache.org/licenses/LICENSE-2.0\n",
              "//\n",
              "// Unless required by applicable law or agreed to in writing, software\n",
              "// distributed under the License is distributed on an \"AS IS\" BASIS,\n",
              "// WITHOUT WARRANTIES OR CONDITIONS OF ANY KIND, either express or implied.\n",
              "// See the License for the specific language governing permissions and\n",
              "// limitations under the License.\n",
              "\n",
              "/**\n",
              " * @fileoverview Helpers for google.colab Python module.\n",
              " */\n",
              "(function(scope) {\n",
              "function span(text, styleAttributes = {}) {\n",
              "  const element = document.createElement('span');\n",
              "  element.textContent = text;\n",
              "  for (const key of Object.keys(styleAttributes)) {\n",
              "    element.style[key] = styleAttributes[key];\n",
              "  }\n",
              "  return element;\n",
              "}\n",
              "\n",
              "// Max number of bytes which will be uploaded at a time.\n",
              "const MAX_PAYLOAD_SIZE = 100 * 1024;\n",
              "\n",
              "function _uploadFiles(inputId, outputId) {\n",
              "  const steps = uploadFilesStep(inputId, outputId);\n",
              "  const outputElement = document.getElementById(outputId);\n",
              "  // Cache steps on the outputElement to make it available for the next call\n",
              "  // to uploadFilesContinue from Python.\n",
              "  outputElement.steps = steps;\n",
              "\n",
              "  return _uploadFilesContinue(outputId);\n",
              "}\n",
              "\n",
              "// This is roughly an async generator (not supported in the browser yet),\n",
              "// where there are multiple asynchronous steps and the Python side is going\n",
              "// to poll for completion of each step.\n",
              "// This uses a Promise to block the python side on completion of each step,\n",
              "// then passes the result of the previous step as the input to the next step.\n",
              "function _uploadFilesContinue(outputId) {\n",
              "  const outputElement = document.getElementById(outputId);\n",
              "  const steps = outputElement.steps;\n",
              "\n",
              "  const next = steps.next(outputElement.lastPromiseValue);\n",
              "  return Promise.resolve(next.value.promise).then((value) => {\n",
              "    // Cache the last promise value to make it available to the next\n",
              "    // step of the generator.\n",
              "    outputElement.lastPromiseValue = value;\n",
              "    return next.value.response;\n",
              "  });\n",
              "}\n",
              "\n",
              "/**\n",
              " * Generator function which is called between each async step of the upload\n",
              " * process.\n",
              " * @param {string} inputId Element ID of the input file picker element.\n",
              " * @param {string} outputId Element ID of the output display.\n",
              " * @return {!Iterable<!Object>} Iterable of next steps.\n",
              " */\n",
              "function* uploadFilesStep(inputId, outputId) {\n",
              "  const inputElement = document.getElementById(inputId);\n",
              "  inputElement.disabled = false;\n",
              "\n",
              "  const outputElement = document.getElementById(outputId);\n",
              "  outputElement.innerHTML = '';\n",
              "\n",
              "  const pickedPromise = new Promise((resolve) => {\n",
              "    inputElement.addEventListener('change', (e) => {\n",
              "      resolve(e.target.files);\n",
              "    });\n",
              "  });\n",
              "\n",
              "  const cancel = document.createElement('button');\n",
              "  inputElement.parentElement.appendChild(cancel);\n",
              "  cancel.textContent = 'Cancel upload';\n",
              "  const cancelPromise = new Promise((resolve) => {\n",
              "    cancel.onclick = () => {\n",
              "      resolve(null);\n",
              "    };\n",
              "  });\n",
              "\n",
              "  // Wait for the user to pick the files.\n",
              "  const files = yield {\n",
              "    promise: Promise.race([pickedPromise, cancelPromise]),\n",
              "    response: {\n",
              "      action: 'starting',\n",
              "    }\n",
              "  };\n",
              "\n",
              "  cancel.remove();\n",
              "\n",
              "  // Disable the input element since further picks are not allowed.\n",
              "  inputElement.disabled = true;\n",
              "\n",
              "  if (!files) {\n",
              "    return {\n",
              "      response: {\n",
              "        action: 'complete',\n",
              "      }\n",
              "    };\n",
              "  }\n",
              "\n",
              "  for (const file of files) {\n",
              "    const li = document.createElement('li');\n",
              "    li.append(span(file.name, {fontWeight: 'bold'}));\n",
              "    li.append(span(\n",
              "        `(${file.type || 'n/a'}) - ${file.size} bytes, ` +\n",
              "        `last modified: ${\n",
              "            file.lastModifiedDate ? file.lastModifiedDate.toLocaleDateString() :\n",
              "                                    'n/a'} - `));\n",
              "    const percent = span('0% done');\n",
              "    li.appendChild(percent);\n",
              "\n",
              "    outputElement.appendChild(li);\n",
              "\n",
              "    const fileDataPromise = new Promise((resolve) => {\n",
              "      const reader = new FileReader();\n",
              "      reader.onload = (e) => {\n",
              "        resolve(e.target.result);\n",
              "      };\n",
              "      reader.readAsArrayBuffer(file);\n",
              "    });\n",
              "    // Wait for the data to be ready.\n",
              "    let fileData = yield {\n",
              "      promise: fileDataPromise,\n",
              "      response: {\n",
              "        action: 'continue',\n",
              "      }\n",
              "    };\n",
              "\n",
              "    // Use a chunked sending to avoid message size limits. See b/62115660.\n",
              "    let position = 0;\n",
              "    do {\n",
              "      const length = Math.min(fileData.byteLength - position, MAX_PAYLOAD_SIZE);\n",
              "      const chunk = new Uint8Array(fileData, position, length);\n",
              "      position += length;\n",
              "\n",
              "      const base64 = btoa(String.fromCharCode.apply(null, chunk));\n",
              "      yield {\n",
              "        response: {\n",
              "          action: 'append',\n",
              "          file: file.name,\n",
              "          data: base64,\n",
              "        },\n",
              "      };\n",
              "\n",
              "      let percentDone = fileData.byteLength === 0 ?\n",
              "          100 :\n",
              "          Math.round((position / fileData.byteLength) * 100);\n",
              "      percent.textContent = `${percentDone}% done`;\n",
              "\n",
              "    } while (position < fileData.byteLength);\n",
              "  }\n",
              "\n",
              "  // All done.\n",
              "  yield {\n",
              "    response: {\n",
              "      action: 'complete',\n",
              "    }\n",
              "  };\n",
              "}\n",
              "\n",
              "scope.google = scope.google || {};\n",
              "scope.google.colab = scope.google.colab || {};\n",
              "scope.google.colab._files = {\n",
              "  _uploadFiles,\n",
              "  _uploadFilesContinue,\n",
              "};\n",
              "})(self);\n",
              "</script> "
            ]
          },
          "metadata": {}
        },
        {
          "output_type": "stream",
          "name": "stdout",
          "text": [
            "Saving kaggle.json to kaggle.json\n",
            "mkdir: cannot create directory ‘/root/.kaggle’: File exists\n",
            "Warning: Looks like you're using an outdated API Version, please consider updating (server 1.6.14 / client 1.6.12)\n",
            "Dataset URL: https://www.kaggle.com/datasets/denizbilginn/google-maps-restaurant-reviews\n",
            "License(s): ODbL-1.0\n",
            "google-maps-restaurant-reviews.zip: Skipping, found more recently modified local copy (use --force to force download)\n",
            "mkdir: cannot create directory ‘CSV’: File exists\n",
            "Archive:  google-maps-restaurant-reviews.zip\n",
            "replace CSV/dataset/dataset/indoor_atmosphere/abidin_tantuni_enes_ozturk.png? [y]es, [n]o, [A]ll, [N]one, [r]ename: "
          ]
        }
      ]
    },
    {
      "cell_type": "markdown",
      "source": [
        "# **Reducing the DaraFrame to the First 19 Reviewed Restaurants**"
      ],
      "metadata": {
        "id": "aWriugVkYc0d"
      }
    },
    {
      "cell_type": "code",
      "source": [
        "unique_restaurants = df['business_name'].unique()\n",
        "first_19_restaurants = unique_restaurants[:19]\n",
        "df_first_19 = df[df['business_name'].isin(first_19_restaurants)]\n",
        "print(df_first_19.head())"
      ],
      "metadata": {
        "id": "nLWZTn_MYf20"
      },
      "execution_count": null,
      "outputs": []
    },
    {
      "cell_type": "markdown",
      "source": [
        "# **Charting Restaurant Ratings**"
      ],
      "metadata": {
        "id": "W_MNklERYkII"
      }
    },
    {
      "cell_type": "code",
      "source": [
        "# Plot the ratings of each restaurant\n",
        "plt.figure(figsize=(12, 6))\n",
        "sns.countplot(data=df_first_19, x='business_name', hue='rating', palette='viridis')\n",
        "plt.title('Ratings of Each Restaurant')\n",
        "plt.xlabel('Restaurant')\n",
        "plt.ylabel('Count of Ratings')\n",
        "plt.xticks(rotation=45, ha='right')  # Rotate x-axis labels for better readability\n",
        "plt.legend(title='Rating')\n",
        "plt.tight_layout()\n",
        "plt.show()\n",
        "\n",
        "\n",
        "average_ratings = df_first_19.groupby('business_name')['rating'].mean().sort_values(ascending=False)\n",
        "\n",
        "# Plot the average rating for each restaurant\n",
        "plt.figure(figsize=(12, 6))\n",
        "sns.barplot(x=average_ratings.index, y=average_ratings.values, palette='viridis')\n",
        "plt.title('Average Rating for Each Restaurant')\n",
        "plt.xlabel('Restaurant')\n",
        "plt.ylabel('Average Rating')\n",
        "plt.xticks(rotation=45, ha='right')  # Rotate x-axis labels for better readability\n",
        "plt.ylim(0, 5)  # Set y-axis limits from 0 to 5\n",
        "plt.tight_layout()\n",
        "plt.show()"
      ],
      "metadata": {
        "id": "-1pONT2gYpkF"
      },
      "execution_count": null,
      "outputs": []
    },
    {
      "cell_type": "markdown",
      "source": [
        "\n",
        "\n",
        "\n",
        "# **VADER Demo**"
      ],
      "metadata": {
        "id": "aKpqIcVSYzvD"
      }
    },
    {
      "cell_type": "code",
      "source": [
        "sia = SentimentIntensityAnalyzer()\n",
        "demo = df_first_19['text'][20]\n",
        "demo_sia = sia.polarity_scores(demo)\n",
        "print(demo)\n",
        "print(demo_sia)"
      ],
      "metadata": {
        "id": "rO4jqc2DY2kv"
      },
      "execution_count": null,
      "outputs": []
    },
    {
      "cell_type": "markdown",
      "source": [
        "# **Sentiment Analysis on the DataFrame Text Column, and Merging it With the DF**"
      ],
      "metadata": {
        "id": "y03Dv8YPZsve"
      }
    },
    {
      "cell_type": "code",
      "source": [
        "result = {}\n",
        "for i, row in df_first_19.iterrows():\n",
        "    text = row['text']\n",
        "    myid = row['author_name']\n",
        "    result[myid] = sia.polarity_scores(text)\n",
        "vaders = pd.DataFrame(result).T\n",
        "vaders = vaders.reset_index().rename(columns={'index' : 'author_name'})\n",
        "vaders = vaders.merge(df_first_19, how = 'left')\n",
        "vaders.head()"
      ],
      "metadata": {
        "id": "SsKwYTCsZuHe"
      },
      "execution_count": null,
      "outputs": []
    },
    {
      "cell_type": "markdown",
      "source": [
        "# **Charting SIA Results**"
      ],
      "metadata": {
        "id": "QjN8VkfzZ2Ky"
      }
    },
    {
      "cell_type": "code",
      "source": [
        "average_compound_scores = vaders.groupby('business_name')['compound'].mean().sort_values(ascending=False)\n",
        "\n",
        "\n",
        "plt.figure(figsize=(12, 6))\n",
        "sns.barplot(x=average_compound_scores.index, y=average_compound_scores.values, palette='viridis')\n",
        "plt.title('Average Compound Sentiment Score for Each Restaurant')\n",
        "plt.xlabel('Restaurant')\n",
        "plt.ylabel('Average Compound Sentiment Score')\n",
        "plt.xticks(rotation=45, ha='right')\n",
        "plt.tight_layout()\n",
        "plt.show()"
      ],
      "metadata": {
        "id": "q8Vm-_pbZ_P2"
      },
      "execution_count": null,
      "outputs": []
    },
    {
      "cell_type": "markdown",
      "source": [
        "\n",
        "\n",
        "```\n",
        "# This is formatted as code\n",
        "```\n",
        "\n",
        "# **Reviews Summary of the best and worst reviewed restaurants**"
      ],
      "metadata": {
        "id": "8kubaVS34WMe"
      }
    },
    {
      "cell_type": "code",
      "source": [
        "from transformers import BartTokenizer, BartForConditionalGeneration\n",
        "\n",
        "model = BartForConditionalGeneration.from_pretrained('facebook/bart-large-cnn')\n",
        "tokenizer = BartTokenizer.from_pretrained('facebook/bart-large-cnn')\n",
        "\n",
        "winner = average_compound_scores.index[0]\n",
        "loser = average_compound_scores.index[-1]\n",
        "\n",
        "winner_restaurant_df = vaders[vaders['business_name'] == winner]\n",
        "loser_restaurant_df = vaders[vaders['business_name'] == loser]\n",
        "\n",
        "reviewsW = \" \".join(winner_restaurant_df['text'])\n",
        "reviewsL = \" \".join(loser_restaurant_df['text'])\n",
        "\n",
        "inputsW = tokenizer([reviewsW], max_length=2048, return_tensors='pt',truncation=True)\n",
        "summary_idsW = model.generate(inputsW['input_ids'], num_beams=4, max_length=150, early_stopping=True)\n",
        "summaryW = [tokenizer.decode(g, skip_special_tokens=True, clean_up_tokenization_spaces=False) for g in summary_idsW]\n",
        "\n",
        "inputsL = tokenizer([reviewsL], max_length=2048, return_tensors='pt',truncation=True)\n",
        "summary_idsL = model.generate(inputsL['input_ids'], num_beams=4, max_length=150, early_stopping=True)\n",
        "summaryL = [tokenizer.decode(g, skip_special_tokens=True, clean_up_tokenization_spaces=False) for g in summary_idsL]\n",
        "\n",
        "\n",
        "\n"
      ],
      "metadata": {
        "id": "4nj7t_RWaHW7"
      },
      "execution_count": null,
      "outputs": []
    },
    {
      "cell_type": "code",
      "source": [
        "print(\"The best reviewed restaurant to visit would be \" + winner + \". Some highlights would be: \")\n",
        "print(summaryW)\n",
        "print(\"\\n\")\n",
        "print(\"The worst reviewed restaurant to visit would be \" + loser + \". Some highlights would be: \")\n",
        "print(summaryL)"
      ],
      "metadata": {
        "id": "gGZhv3cuo4A2"
      },
      "execution_count": null,
      "outputs": []
    }
  ]
}